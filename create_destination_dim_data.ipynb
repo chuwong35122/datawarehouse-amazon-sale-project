{
 "cells": [
  {
   "cell_type": "code",
   "execution_count": 16,
   "metadata": {},
   "outputs": [],
   "source": [
    "import pandas as pd\n",
    "import numpy as np"
   ]
  },
  {
   "cell_type": "code",
   "execution_count": 17,
   "metadata": {},
   "outputs": [],
   "source": [
    "df = pd.read_csv('./data/datetime_amazon_sale_report.csv')"
   ]
  },
  {
   "cell_type": "code",
   "execution_count": 18,
   "metadata": {},
   "outputs": [
    {
     "data": {
      "text/html": [
       "<div>\n",
       "<style scoped>\n",
       "    .dataframe tbody tr th:only-of-type {\n",
       "        vertical-align: middle;\n",
       "    }\n",
       "\n",
       "    .dataframe tbody tr th {\n",
       "        vertical-align: top;\n",
       "    }\n",
       "\n",
       "    .dataframe thead th {\n",
       "        text-align: right;\n",
       "    }\n",
       "</style>\n",
       "<table border=\"1\" class=\"dataframe\">\n",
       "  <thead>\n",
       "    <tr style=\"text-align: right;\">\n",
       "      <th></th>\n",
       "      <th>ship_city</th>\n",
       "      <th>ship_state</th>\n",
       "      <th>ship_postal_code</th>\n",
       "      <th>ship_country</th>\n",
       "    </tr>\n",
       "  </thead>\n",
       "  <tbody>\n",
       "    <tr>\n",
       "      <th>0</th>\n",
       "      <td>West Deniseland</td>\n",
       "      <td>Minnesota</td>\n",
       "      <td>26450</td>\n",
       "      <td>USA</td>\n",
       "    </tr>\n",
       "    <tr>\n",
       "      <th>1</th>\n",
       "      <td>New Cesarborough</td>\n",
       "      <td>Nebraska</td>\n",
       "      <td>96610</td>\n",
       "      <td>USA</td>\n",
       "    </tr>\n",
       "    <tr>\n",
       "      <th>2</th>\n",
       "      <td>Matthewtown</td>\n",
       "      <td>Arkansas</td>\n",
       "      <td>3375</td>\n",
       "      <td>USA</td>\n",
       "    </tr>\n",
       "    <tr>\n",
       "      <th>3</th>\n",
       "      <td>Bentonstad</td>\n",
       "      <td>North Carolina</td>\n",
       "      <td>78970</td>\n",
       "      <td>USA</td>\n",
       "    </tr>\n",
       "    <tr>\n",
       "      <th>4</th>\n",
       "      <td>West Kimberly</td>\n",
       "      <td>Florida</td>\n",
       "      <td>24216</td>\n",
       "      <td>USA</td>\n",
       "    </tr>\n",
       "  </tbody>\n",
       "</table>\n",
       "</div>"
      ],
      "text/plain": [
       "          ship_city      ship_state  ship_postal_code ship_country\n",
       "0   West Deniseland       Minnesota             26450          USA\n",
       "1  New Cesarborough        Nebraska             96610          USA\n",
       "2       Matthewtown        Arkansas              3375          USA\n",
       "3        Bentonstad  North Carolina             78970          USA\n",
       "4     West Kimberly         Florida             24216          USA"
      ]
     },
     "execution_count": 18,
     "metadata": {},
     "output_type": "execute_result"
    }
   ],
   "source": [
    "destination_dim = pd.DataFrame()\n",
    "#from df get only columns sku, product_size, product_style, product_category, asin and use inplace = True\n",
    "df = df[['ship_city','ship_state','ship_postal_code','ship_country']]\n",
    "\n",
    "df.head()\n"
   ]
  },
  {
   "cell_type": "code",
   "execution_count": 19,
   "metadata": {},
   "outputs": [
    {
     "name": "stdout",
     "output_type": "stream",
     "text": [
      "121269\n",
      "ship_city           25997\n",
      "ship_state             50\n",
      "ship_postal_code    40691\n",
      "ship_country            1\n",
      "dtype: int64\n"
     ]
    }
   ],
   "source": [
    "#show number of rows in df\n",
    "print(df.shape[0])\n",
    "#show number of unique values in df\n",
    "print(df.nunique())\n"
   ]
  },
  {
   "cell_type": "code",
   "execution_count": 20,
   "metadata": {},
   "outputs": [
    {
     "name": "stdout",
     "output_type": "stream",
     "text": [
      "52410\n"
     ]
    }
   ],
   "source": [
    "#get all unique row in df\n",
    "destination_dim = df.drop_duplicates()\n",
    "print(destination_dim.shape[0])\n"
   ]
  },
  {
   "cell_type": "code",
   "execution_count": 21,
   "metadata": {},
   "outputs": [
    {
     "name": "stdout",
     "output_type": "stream",
     "text": [
      "         ship_city    ship_state  ship_postal_code ship_country\n",
      "2840   Alvarezfort        Oregon             87685          USA\n",
      "26514  Alvarezfort  North Dakota             42234          USA\n",
      "48859  Alvarezfort  North Dakota             42234          USA\n",
      "56695  Alvarezfort  North Dakota             42234          USA\n",
      "66441  Alvarezfort        Oregon             87685          USA\n",
      "72825  Alvarezfort  North Dakota             42234          USA\n"
     ]
    }
   ],
   "source": [
    "#show ship_city that contains Aaronburgh\n",
    "print(df[df['ship_city'].str.contains('Alvarezfort')])\n"
   ]
  },
  {
   "cell_type": "code",
   "execution_count": 22,
   "metadata": {},
   "outputs": [
    {
     "name": "stdout",
     "output_type": "stream",
     "text": [
      "         ship_city    ship_state  ship_postal_code ship_country\n",
      "2840   Alvarezfort        Oregon             87685          USA\n",
      "26514  Alvarezfort  North Dakota             42234          USA\n"
     ]
    }
   ],
   "source": [
    "print(destination_dim[destination_dim['ship_city'].str.contains('Alvarezfort')])"
   ]
  },
  {
   "cell_type": "code",
   "execution_count": 23,
   "metadata": {},
   "outputs": [
    {
     "name": "stderr",
     "output_type": "stream",
     "text": [
      "<ipython-input-23-31ca903ae232>:2: SettingWithCopyWarning: \n",
      "A value is trying to be set on a copy of a slice from a DataFrame.\n",
      "Try using .loc[row_indexer,col_indexer] = value instead\n",
      "\n",
      "See the caveats in the documentation: https://pandas.pydata.org/pandas-docs/stable/user_guide/indexing.html#returning-a-view-versus-a-copy\n",
      "  destination_dim['destination_id'] = np.arange(1,destination_dim.shape[0]+1)\n"
     ]
    }
   ],
   "source": [
    "#add unique id to destination_dim\n",
    "destination_dim['destination_id'] = np.arange(1,destination_dim.shape[0]+1)"
   ]
  },
  {
   "cell_type": "code",
   "execution_count": 24,
   "metadata": {},
   "outputs": [
    {
     "data": {
      "text/html": [
       "<div>\n",
       "<style scoped>\n",
       "    .dataframe tbody tr th:only-of-type {\n",
       "        vertical-align: middle;\n",
       "    }\n",
       "\n",
       "    .dataframe tbody tr th {\n",
       "        vertical-align: top;\n",
       "    }\n",
       "\n",
       "    .dataframe thead th {\n",
       "        text-align: right;\n",
       "    }\n",
       "</style>\n",
       "<table border=\"1\" class=\"dataframe\">\n",
       "  <thead>\n",
       "    <tr style=\"text-align: right;\">\n",
       "      <th></th>\n",
       "      <th>ship_city</th>\n",
       "      <th>ship_state</th>\n",
       "      <th>ship_postal_code</th>\n",
       "      <th>ship_country</th>\n",
       "      <th>destination_id</th>\n",
       "    </tr>\n",
       "  </thead>\n",
       "  <tbody>\n",
       "    <tr>\n",
       "      <th>0</th>\n",
       "      <td>West Deniseland</td>\n",
       "      <td>Minnesota</td>\n",
       "      <td>26450</td>\n",
       "      <td>USA</td>\n",
       "      <td>1</td>\n",
       "    </tr>\n",
       "    <tr>\n",
       "      <th>1</th>\n",
       "      <td>New Cesarborough</td>\n",
       "      <td>Nebraska</td>\n",
       "      <td>96610</td>\n",
       "      <td>USA</td>\n",
       "      <td>2</td>\n",
       "    </tr>\n",
       "    <tr>\n",
       "      <th>2</th>\n",
       "      <td>Matthewtown</td>\n",
       "      <td>Arkansas</td>\n",
       "      <td>3375</td>\n",
       "      <td>USA</td>\n",
       "      <td>3</td>\n",
       "    </tr>\n",
       "    <tr>\n",
       "      <th>3</th>\n",
       "      <td>Bentonstad</td>\n",
       "      <td>North Carolina</td>\n",
       "      <td>78970</td>\n",
       "      <td>USA</td>\n",
       "      <td>4</td>\n",
       "    </tr>\n",
       "    <tr>\n",
       "      <th>4</th>\n",
       "      <td>West Kimberly</td>\n",
       "      <td>Florida</td>\n",
       "      <td>24216</td>\n",
       "      <td>USA</td>\n",
       "      <td>5</td>\n",
       "    </tr>\n",
       "  </tbody>\n",
       "</table>\n",
       "</div>"
      ],
      "text/plain": [
       "          ship_city      ship_state  ship_postal_code ship_country  \\\n",
       "0   West Deniseland       Minnesota             26450          USA   \n",
       "1  New Cesarborough        Nebraska             96610          USA   \n",
       "2       Matthewtown        Arkansas              3375          USA   \n",
       "3        Bentonstad  North Carolina             78970          USA   \n",
       "4     West Kimberly         Florida             24216          USA   \n",
       "\n",
       "   destination_id  \n",
       "0               1  \n",
       "1               2  \n",
       "2               3  \n",
       "3               4  \n",
       "4               5  "
      ]
     },
     "execution_count": 24,
     "metadata": {},
     "output_type": "execute_result"
    }
   ],
   "source": [
    "destination_dim.head()"
   ]
  },
  {
   "cell_type": "code",
   "execution_count": 25,
   "metadata": {},
   "outputs": [],
   "source": [
    "destination_dim.to_csv('./dimensions/destination_dim.csv', index=False)"
   ]
  },
  {
   "cell_type": "code",
   "execution_count": 28,
   "metadata": {},
   "outputs": [],
   "source": [
    "df_des = pd.read_csv('./dimensions/destination_dim_file.csv')"
   ]
  },
  {
   "cell_type": "code",
   "execution_count": 29,
   "metadata": {},
   "outputs": [
    {
     "name": "stdout",
     "output_type": "stream",
     "text": [
      "40691\n"
     ]
    }
   ],
   "source": [
    "#print unique postal code in df_des and count them\n",
    "print(df_des['ship_postal_code'].nunique())\n"
   ]
  },
  {
   "cell_type": "code",
   "execution_count": 30,
   "metadata": {},
   "outputs": [
    {
     "name": "stdout",
     "output_type": "stream",
     "text": [
      "1        1\n",
      "34944    1\n",
      "34934    1\n",
      "34935    1\n",
      "34936    1\n",
      "34937    1\n",
      "34938    1\n",
      "34939    1\n",
      "34940    1\n",
      "34941    1\n",
      "Name: destination_id, dtype: int64\n"
     ]
    }
   ],
   "source": [
    "#how many postal code in df_des that is duplicated\n",
    "print(df_des['destination_id'].value_counts().head(10))"
   ]
  },
  {
   "cell_type": "code",
   "execution_count": 32,
   "metadata": {},
   "outputs": [
    {
     "name": "stdout",
     "output_type": "stream",
     "text": [
      "        ship_city ship_state  ship_postal_code ship_country  destination_id\n",
      "25347  Jonesshire     Hawaii              1093          USA           25348\n"
     ]
    }
   ],
   "source": [
    "#get row that has postal code 25348\n",
    "print(df_des[df_des['destination_id'] == 25348])"
   ]
  }
 ],
 "metadata": {
  "kernelspec": {
   "display_name": "base",
   "language": "python",
   "name": "python3"
  },
  "language_info": {
   "codemirror_mode": {
    "name": "ipython",
    "version": 3
   },
   "file_extension": ".py",
   "mimetype": "text/x-python",
   "name": "python",
   "nbconvert_exporter": "python",
   "pygments_lexer": "ipython3",
   "version": "3.8.5"
  },
  "orig_nbformat": 4
 },
 "nbformat": 4,
 "nbformat_minor": 2
}
