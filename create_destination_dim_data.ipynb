{
 "cells": [
  {
   "cell_type": "code",
   "execution_count": 15,
   "metadata": {},
   "outputs": [],
   "source": [
    "import pandas as pd\n",
    "import numpy as np"
   ]
  },
  {
   "cell_type": "code",
   "execution_count": 16,
   "metadata": {},
   "outputs": [],
   "source": [
    "df = pd.read_csv('./data/datetime_amazon_sale_report.csv')"
   ]
  },
  {
   "cell_type": "code",
   "execution_count": 17,
   "metadata": {},
   "outputs": [
    {
     "data": {
      "text/html": [
       "<div>\n",
       "<style scoped>\n",
       "    .dataframe tbody tr th:only-of-type {\n",
       "        vertical-align: middle;\n",
       "    }\n",
       "\n",
       "    .dataframe tbody tr th {\n",
       "        vertical-align: top;\n",
       "    }\n",
       "\n",
       "    .dataframe thead th {\n",
       "        text-align: right;\n",
       "    }\n",
       "</style>\n",
       "<table border=\"1\" class=\"dataframe\">\n",
       "  <thead>\n",
       "    <tr style=\"text-align: right;\">\n",
       "      <th></th>\n",
       "      <th>ship_city</th>\n",
       "      <th>ship_state</th>\n",
       "      <th>ship_postal_code</th>\n",
       "      <th>ship_country</th>\n",
       "    </tr>\n",
       "  </thead>\n",
       "  <tbody>\n",
       "    <tr>\n",
       "      <th>0</th>\n",
       "      <td>West Deniseland</td>\n",
       "      <td>Minnesota</td>\n",
       "      <td>26450</td>\n",
       "      <td>USA</td>\n",
       "    </tr>\n",
       "    <tr>\n",
       "      <th>1</th>\n",
       "      <td>New Cesarborough</td>\n",
       "      <td>Nebraska</td>\n",
       "      <td>96610</td>\n",
       "      <td>USA</td>\n",
       "    </tr>\n",
       "    <tr>\n",
       "      <th>2</th>\n",
       "      <td>Matthewtown</td>\n",
       "      <td>Arkansas</td>\n",
       "      <td>3375</td>\n",
       "      <td>USA</td>\n",
       "    </tr>\n",
       "    <tr>\n",
       "      <th>3</th>\n",
       "      <td>Bentonstad</td>\n",
       "      <td>North Carolina</td>\n",
       "      <td>78970</td>\n",
       "      <td>USA</td>\n",
       "    </tr>\n",
       "    <tr>\n",
       "      <th>4</th>\n",
       "      <td>West Kimberly</td>\n",
       "      <td>Florida</td>\n",
       "      <td>24216</td>\n",
       "      <td>USA</td>\n",
       "    </tr>\n",
       "  </tbody>\n",
       "</table>\n",
       "</div>"
      ],
      "text/plain": [
       "          ship_city      ship_state  ship_postal_code ship_country\n",
       "0   West Deniseland       Minnesota             26450          USA\n",
       "1  New Cesarborough        Nebraska             96610          USA\n",
       "2       Matthewtown        Arkansas              3375          USA\n",
       "3        Bentonstad  North Carolina             78970          USA\n",
       "4     West Kimberly         Florida             24216          USA"
      ]
     },
     "execution_count": 17,
     "metadata": {},
     "output_type": "execute_result"
    }
   ],
   "source": [
    "destination_dim = pd.DataFrame()\n",
    "#from df get only columns sku, product_size, product_style, product_category, asin and use inplace = True\n",
    "df = df[['ship_city','ship_state','ship_postal_code','ship_country']]\n",
    "\n",
    "df.head()\n"
   ]
  },
  {
   "cell_type": "code",
   "execution_count": 18,
   "metadata": {},
   "outputs": [
    {
     "name": "stdout",
     "output_type": "stream",
     "text": [
      "121269\n",
      "ship_city           25997\n",
      "ship_state             50\n",
      "ship_postal_code    40691\n",
      "ship_country            1\n",
      "dtype: int64\n"
     ]
    }
   ],
   "source": [
    "#show number of rows in df\n",
    "print(df.shape[0])\n",
    "#show number of unique values in df\n",
    "print(df.nunique())\n"
   ]
  },
  {
   "cell_type": "code",
   "execution_count": 19,
   "metadata": {},
   "outputs": [
    {
     "name": "stdout",
     "output_type": "stream",
     "text": [
      "52410\n"
     ]
    }
   ],
   "source": [
    "#get all unique row in df\n",
    "destination_dim = df.drop_duplicates()\n",
    "print(destination_dim.shape[0])\n"
   ]
  },
  {
   "cell_type": "code",
   "execution_count": 20,
   "metadata": {},
   "outputs": [
    {
     "name": "stdout",
     "output_type": "stream",
     "text": [
      "         ship_city    ship_state  ship_postal_code ship_country\n",
      "2840   Alvarezfort        Oregon             87685          USA\n",
      "26514  Alvarezfort  North Dakota             42234          USA\n",
      "48859  Alvarezfort  North Dakota             42234          USA\n",
      "56695  Alvarezfort  North Dakota             42234          USA\n",
      "66441  Alvarezfort        Oregon             87685          USA\n",
      "72825  Alvarezfort  North Dakota             42234          USA\n"
     ]
    }
   ],
   "source": [
    "#show ship_city that contains Aaronburgh\n",
    "print(df[df['ship_city'].str.contains('Alvarezfort')])\n"
   ]
  },
  {
   "cell_type": "code",
   "execution_count": 21,
   "metadata": {},
   "outputs": [
    {
     "name": "stdout",
     "output_type": "stream",
     "text": [
      "         ship_city    ship_state  ship_postal_code ship_country\n",
      "2840   Alvarezfort        Oregon             87685          USA\n",
      "26514  Alvarezfort  North Dakota             42234          USA\n"
     ]
    }
   ],
   "source": [
    "print(destination_dim[destination_dim['ship_city'].str.contains('Alvarezfort')])"
   ]
  },
  {
   "cell_type": "code",
   "execution_count": 22,
   "metadata": {},
   "outputs": [],
   "source": [
    "destination_dim.to_csv('./dimensions/destination_dim.csv', index=False)"
   ]
  }
 ],
 "metadata": {
  "kernelspec": {
   "display_name": "base",
   "language": "python",
   "name": "python3"
  },
  "language_info": {
   "codemirror_mode": {
    "name": "ipython",
    "version": 3
   },
   "file_extension": ".py",
   "mimetype": "text/x-python",
   "name": "python",
   "nbconvert_exporter": "python",
   "pygments_lexer": "ipython3",
   "version": "3.9.12"
  },
  "orig_nbformat": 4
 },
 "nbformat": 4,
 "nbformat_minor": 2
}
