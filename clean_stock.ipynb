{
 "cells": [
  {
   "cell_type": "code",
   "execution_count": 1,
   "metadata": {},
   "outputs": [],
   "source": [
    "import pandas as pd\n",
    "import numpy as np"
   ]
  },
  {
   "cell_type": "code",
   "execution_count": 2,
   "metadata": {},
   "outputs": [],
   "source": [
    "df = pd.read_csv('./data/Sale Report.csv')"
   ]
  },
  {
   "cell_type": "code",
   "execution_count": 3,
   "metadata": {},
   "outputs": [
    {
     "data": {
      "text/html": [
       "<div>\n",
       "<style scoped>\n",
       "    .dataframe tbody tr th:only-of-type {\n",
       "        vertical-align: middle;\n",
       "    }\n",
       "\n",
       "    .dataframe tbody tr th {\n",
       "        vertical-align: top;\n",
       "    }\n",
       "\n",
       "    .dataframe thead th {\n",
       "        text-align: right;\n",
       "    }\n",
       "</style>\n",
       "<table border=\"1\" class=\"dataframe\">\n",
       "  <thead>\n",
       "    <tr style=\"text-align: right;\">\n",
       "      <th></th>\n",
       "      <th>index</th>\n",
       "      <th>SKU Code</th>\n",
       "      <th>Design No.</th>\n",
       "      <th>Stock</th>\n",
       "      <th>Category</th>\n",
       "      <th>Size</th>\n",
       "      <th>Color</th>\n",
       "    </tr>\n",
       "  </thead>\n",
       "  <tbody>\n",
       "    <tr>\n",
       "      <th>0</th>\n",
       "      <td>0</td>\n",
       "      <td>AN201-RED-L</td>\n",
       "      <td>AN201</td>\n",
       "      <td>5.0</td>\n",
       "      <td>AN : LEGGINGS</td>\n",
       "      <td>L</td>\n",
       "      <td>Red</td>\n",
       "    </tr>\n",
       "    <tr>\n",
       "      <th>1</th>\n",
       "      <td>1</td>\n",
       "      <td>AN201-RED-M</td>\n",
       "      <td>AN201</td>\n",
       "      <td>5.0</td>\n",
       "      <td>AN : LEGGINGS</td>\n",
       "      <td>M</td>\n",
       "      <td>Red</td>\n",
       "    </tr>\n",
       "    <tr>\n",
       "      <th>2</th>\n",
       "      <td>2</td>\n",
       "      <td>AN201-RED-S</td>\n",
       "      <td>AN201</td>\n",
       "      <td>3.0</td>\n",
       "      <td>AN : LEGGINGS</td>\n",
       "      <td>S</td>\n",
       "      <td>Red</td>\n",
       "    </tr>\n",
       "    <tr>\n",
       "      <th>3</th>\n",
       "      <td>3</td>\n",
       "      <td>AN201-RED-XL</td>\n",
       "      <td>AN201</td>\n",
       "      <td>6.0</td>\n",
       "      <td>AN : LEGGINGS</td>\n",
       "      <td>XL</td>\n",
       "      <td>Red</td>\n",
       "    </tr>\n",
       "    <tr>\n",
       "      <th>4</th>\n",
       "      <td>4</td>\n",
       "      <td>AN201-RED-XXL</td>\n",
       "      <td>AN201</td>\n",
       "      <td>3.0</td>\n",
       "      <td>AN : LEGGINGS</td>\n",
       "      <td>XXL</td>\n",
       "      <td>Red</td>\n",
       "    </tr>\n",
       "  </tbody>\n",
       "</table>\n",
       "</div>"
      ],
      "text/plain": [
       "   index       SKU Code Design No.  Stock       Category Size Color\n",
       "0      0    AN201-RED-L      AN201    5.0  AN : LEGGINGS    L   Red\n",
       "1      1    AN201-RED-M      AN201    5.0  AN : LEGGINGS    M   Red\n",
       "2      2    AN201-RED-S      AN201    3.0  AN : LEGGINGS    S   Red\n",
       "3      3   AN201-RED-XL      AN201    6.0  AN : LEGGINGS   XL   Red\n",
       "4      4  AN201-RED-XXL      AN201    3.0  AN : LEGGINGS  XXL   Red"
      ]
     },
     "execution_count": 3,
     "metadata": {},
     "output_type": "execute_result"
    }
   ],
   "source": [
    "df.head()"
   ]
  },
  {
   "cell_type": "code",
   "execution_count": 4,
   "metadata": {},
   "outputs": [
    {
     "data": {
      "text/plain": [
       "#REF!                15\n",
       "PJNE3404-KR-4XL       2\n",
       "PJNE3404-KR-5XL       2\n",
       "PJNE3405-KR-6XL       2\n",
       "PJNE3405-KR-5XL       2\n",
       "                     ..\n",
       "JAN8634-KR-NP-L       1\n",
       "JAN8633-KR-NP-XXL     1\n",
       "JAN8633-KR-NP-XL      1\n",
       "JAN8633-KR-NP-S       1\n",
       "SET462-KR-NP-XXXL     1\n",
       "Name: SKU Code, Length: 9170, dtype: int64"
      ]
     },
     "execution_count": 4,
     "metadata": {},
     "output_type": "execute_result"
    }
   ],
   "source": [
    "#count of each sku code sort decending print all value\n",
    "df['SKU Code'].value_counts()\n",
    "\n"
   ]
  },
  {
   "cell_type": "code",
   "execution_count": 5,
   "metadata": {},
   "outputs": [],
   "source": [
    "#drop sku code that is #REF\n",
    "df = df[df['SKU Code'] != '#REF!']"
   ]
  },
  {
   "cell_type": "code",
   "execution_count": 6,
   "metadata": {},
   "outputs": [
    {
     "data": {
      "text/plain": [
       "PJNE3404-KR-4XL      2\n",
       "PJNE3405-KR-6XL      2\n",
       "PJNE3405-KR-5XL      2\n",
       "PJNE3404-KR-5XL      2\n",
       "AN201-RED-L          1\n",
       "                    ..\n",
       "JAN8634-KR-NP-L      1\n",
       "JAN8633-KR-NP-XXL    1\n",
       "JAN8633-KR-NP-XL     1\n",
       "JAN8633-KR-NP-S      1\n",
       "SET462-KR-NP-XXXL    1\n",
       "Name: SKU Code, Length: 9169, dtype: int64"
      ]
     },
     "execution_count": 6,
     "metadata": {},
     "output_type": "execute_result"
    }
   ],
   "source": [
    "df['SKU Code'].value_counts()"
   ]
  },
  {
   "cell_type": "code",
   "execution_count": 7,
   "metadata": {},
   "outputs": [],
   "source": [
    "#drop duplicate sku code\n",
    "df = df.drop_duplicates(subset=['SKU Code'])"
   ]
  },
  {
   "cell_type": "code",
   "execution_count": 8,
   "metadata": {},
   "outputs": [
    {
     "data": {
      "text/plain": [
       "AN201-RED-L          1\n",
       "JNE3813-KR-XXL       1\n",
       "JNE3811-KR-XXXL      1\n",
       "JNE3813-KR-L         1\n",
       "JNE3813-KR-M         1\n",
       "                    ..\n",
       "JAN8634-KR-NP-M      1\n",
       "JAN8634-KR-NP-L      1\n",
       "JAN8633-KR-NP-XXL    1\n",
       "JAN8633-KR-NP-XL     1\n",
       "SET462-KR-NP-XXXL    1\n",
       "Name: SKU Code, Length: 9169, dtype: int64"
      ]
     },
     "execution_count": 8,
     "metadata": {},
     "output_type": "execute_result"
    }
   ],
   "source": [
    "df['SKU Code'].value_counts()"
   ]
  },
  {
   "cell_type": "code",
   "execution_count": 9,
   "metadata": {},
   "outputs": [
    {
     "data": {
      "text/html": [
       "<div>\n",
       "<style scoped>\n",
       "    .dataframe tbody tr th:only-of-type {\n",
       "        vertical-align: middle;\n",
       "    }\n",
       "\n",
       "    .dataframe tbody tr th {\n",
       "        vertical-align: top;\n",
       "    }\n",
       "\n",
       "    .dataframe thead th {\n",
       "        text-align: right;\n",
       "    }\n",
       "</style>\n",
       "<table border=\"1\" class=\"dataframe\">\n",
       "  <thead>\n",
       "    <tr style=\"text-align: right;\">\n",
       "      <th></th>\n",
       "      <th>index</th>\n",
       "      <th>SKU Code</th>\n",
       "      <th>Design No.</th>\n",
       "      <th>Stock</th>\n",
       "      <th>Category</th>\n",
       "      <th>Size</th>\n",
       "      <th>Color</th>\n",
       "    </tr>\n",
       "  </thead>\n",
       "  <tbody>\n",
       "    <tr>\n",
       "      <th>0</th>\n",
       "      <td>0</td>\n",
       "      <td>AN201-RED-L</td>\n",
       "      <td>AN201</td>\n",
       "      <td>5.0</td>\n",
       "      <td>AN : LEGGINGS</td>\n",
       "      <td>L</td>\n",
       "      <td>Red</td>\n",
       "    </tr>\n",
       "    <tr>\n",
       "      <th>1</th>\n",
       "      <td>1</td>\n",
       "      <td>AN201-RED-M</td>\n",
       "      <td>AN201</td>\n",
       "      <td>5.0</td>\n",
       "      <td>AN : LEGGINGS</td>\n",
       "      <td>M</td>\n",
       "      <td>Red</td>\n",
       "    </tr>\n",
       "    <tr>\n",
       "      <th>2</th>\n",
       "      <td>2</td>\n",
       "      <td>AN201-RED-S</td>\n",
       "      <td>AN201</td>\n",
       "      <td>3.0</td>\n",
       "      <td>AN : LEGGINGS</td>\n",
       "      <td>S</td>\n",
       "      <td>Red</td>\n",
       "    </tr>\n",
       "    <tr>\n",
       "      <th>3</th>\n",
       "      <td>3</td>\n",
       "      <td>AN201-RED-XL</td>\n",
       "      <td>AN201</td>\n",
       "      <td>6.0</td>\n",
       "      <td>AN : LEGGINGS</td>\n",
       "      <td>XL</td>\n",
       "      <td>Red</td>\n",
       "    </tr>\n",
       "    <tr>\n",
       "      <th>4</th>\n",
       "      <td>4</td>\n",
       "      <td>AN201-RED-XXL</td>\n",
       "      <td>AN201</td>\n",
       "      <td>3.0</td>\n",
       "      <td>AN : LEGGINGS</td>\n",
       "      <td>XXL</td>\n",
       "      <td>Red</td>\n",
       "    </tr>\n",
       "  </tbody>\n",
       "</table>\n",
       "</div>"
      ],
      "text/plain": [
       "   index       SKU Code Design No.  Stock       Category Size Color\n",
       "0      0    AN201-RED-L      AN201    5.0  AN : LEGGINGS    L   Red\n",
       "1      1    AN201-RED-M      AN201    5.0  AN : LEGGINGS    M   Red\n",
       "2      2    AN201-RED-S      AN201    3.0  AN : LEGGINGS    S   Red\n",
       "3      3   AN201-RED-XL      AN201    6.0  AN : LEGGINGS   XL   Red\n",
       "4      4  AN201-RED-XXL      AN201    3.0  AN : LEGGINGS  XXL   Red"
      ]
     },
     "execution_count": 9,
     "metadata": {},
     "output_type": "execute_result"
    }
   ],
   "source": [
    "df.head()"
   ]
  },
  {
   "cell_type": "code",
   "execution_count": 10,
   "metadata": {},
   "outputs": [],
   "source": [
    "#save to csv\n",
    "df.to_csv('./data/Cleaned Sale Report.csv', index=False)"
   ]
  }
 ],
 "metadata": {
  "kernelspec": {
   "display_name": "Python 3",
   "language": "python",
   "name": "python3"
  },
  "language_info": {
   "codemirror_mode": {
    "name": "ipython",
    "version": 3
   },
   "file_extension": ".py",
   "mimetype": "text/x-python",
   "name": "python",
   "nbconvert_exporter": "python",
   "pygments_lexer": "ipython3",
   "version": "3.8.5"
  },
  "orig_nbformat": 4
 },
 "nbformat": 4,
 "nbformat_minor": 2
}
