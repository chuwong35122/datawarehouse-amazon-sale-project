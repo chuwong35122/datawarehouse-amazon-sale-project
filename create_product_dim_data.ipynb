{
 "cells": [
  {
   "attachments": {},
   "cell_type": "markdown",
   "metadata": {},
   "source": [
    "# Create Product Dim Data"
   ]
  },
  {
   "cell_type": "code",
   "execution_count": 428,
   "metadata": {},
   "outputs": [],
   "source": [
    "import pandas as pd\n",
    "import numpy as np"
   ]
  },
  {
   "attachments": {},
   "cell_type": "markdown",
   "metadata": {},
   "source": [
    "# Product dim csv file"
   ]
  },
  {
   "cell_type": "code",
   "execution_count": 429,
   "metadata": {},
   "outputs": [],
   "source": [
    "df = pd.read_csv('./data/datetime_amazon_sale_report.csv')"
   ]
  },
  {
   "cell_type": "code",
   "execution_count": 430,
   "metadata": {},
   "outputs": [],
   "source": [
    "product_dim = pd.DataFrame()\n",
    "df = df[['sku', 'size', 'style', 'category', 'asin']]\n",
    "\n",
    "product_dim = df.drop_duplicates(subset=['sku'])\n",
    "\n"
   ]
  },
  {
   "cell_type": "code",
   "execution_count": 431,
   "metadata": {},
   "outputs": [
    {
     "name": "stdout",
     "output_type": "stream",
     "text": [
      "(121269, 5)\n",
      "(6617, 5)\n"
     ]
    }
   ],
   "source": [
    "print(df.shape)\n",
    "print(product_dim.shape)\n"
   ]
  },
  {
   "cell_type": "code",
   "execution_count": 432,
   "metadata": {},
   "outputs": [
    {
     "name": "stdout",
     "output_type": "stream",
     "text": [
      "JNE3797-KR-L      773\n",
      "JNE3797-KR-M      657\n",
      "JNE3797-KR-S      587\n",
      "JNE3405-KR-L      535\n",
      "J0230-SKD-M       507\n",
      "JNE3797-KR-XL     474\n",
      "J0230-SKD-S       452\n",
      "JNE3405-KR-S      443\n",
      "JNE3797-KR-XS     431\n",
      "JNE3797-KR-XXL    395\n",
      "Name: sku, dtype: int64\n",
      "B09SDXFFQ1    773\n",
      "B09SDY8DCT    657\n",
      "B09SDYQ3WG    587\n",
      "B081WSCKPQ    535\n",
      "B08XNJG8B1    507\n",
      "B09SDXRYBG    474\n",
      "B08XNJ19QH    452\n",
      "B081WX4G4Q    443\n",
      "B09SDY9SQ6    431\n",
      "B09SDXSQ33    395\n",
      "Name: asin, dtype: int64\n",
      "6617\n",
      "6620\n"
     ]
    }
   ],
   "source": [
    "print(df['sku'].value_counts().head(10))\n",
    "print(df['asin'].value_counts().head(10))\n",
    "print(df['sku'].nunique())\n",
    "print(df['asin'].nunique())\n"
   ]
  },
  {
   "cell_type": "code",
   "execution_count": 433,
   "metadata": {},
   "outputs": [
    {
     "data": {
      "text/html": [
       "<div>\n",
       "<style scoped>\n",
       "    .dataframe tbody tr th:only-of-type {\n",
       "        vertical-align: middle;\n",
       "    }\n",
       "\n",
       "    .dataframe tbody tr th {\n",
       "        vertical-align: top;\n",
       "    }\n",
       "\n",
       "    .dataframe thead th {\n",
       "        text-align: right;\n",
       "    }\n",
       "</style>\n",
       "<table border=\"1\" class=\"dataframe\">\n",
       "  <thead>\n",
       "    <tr style=\"text-align: right;\">\n",
       "      <th></th>\n",
       "      <th>sku</th>\n",
       "      <th>size</th>\n",
       "      <th>style</th>\n",
       "      <th>category</th>\n",
       "      <th>asin</th>\n",
       "    </tr>\n",
       "  </thead>\n",
       "  <tbody>\n",
       "    <tr>\n",
       "      <th>0</th>\n",
       "      <td>SET389-KR-NP-S</td>\n",
       "      <td>S</td>\n",
       "      <td>SET389</td>\n",
       "      <td>Set</td>\n",
       "      <td>B09KXVBD7Z</td>\n",
       "    </tr>\n",
       "    <tr>\n",
       "      <th>1</th>\n",
       "      <td>JNE3781-KR-XXXL</td>\n",
       "      <td>3XL</td>\n",
       "      <td>JNE3781</td>\n",
       "      <td>kurta</td>\n",
       "      <td>B09K3WFS32</td>\n",
       "    </tr>\n",
       "    <tr>\n",
       "      <th>2</th>\n",
       "      <td>JNE3371-KR-XL</td>\n",
       "      <td>XL</td>\n",
       "      <td>JNE3371</td>\n",
       "      <td>kurta</td>\n",
       "      <td>B07WV4JV4D</td>\n",
       "    </tr>\n",
       "    <tr>\n",
       "      <th>3</th>\n",
       "      <td>J0341-DR-L</td>\n",
       "      <td>L</td>\n",
       "      <td>J0341</td>\n",
       "      <td>Western Dress</td>\n",
       "      <td>B099NRCT7B</td>\n",
       "    </tr>\n",
       "    <tr>\n",
       "      <th>4</th>\n",
       "      <td>JNE3671-TU-XXXL</td>\n",
       "      <td>3XL</td>\n",
       "      <td>JNE3671</td>\n",
       "      <td>Top</td>\n",
       "      <td>B098714BZP</td>\n",
       "    </tr>\n",
       "  </tbody>\n",
       "</table>\n",
       "</div>"
      ],
      "text/plain": [
       "               sku size    style       category        asin\n",
       "0   SET389-KR-NP-S    S   SET389            Set  B09KXVBD7Z\n",
       "1  JNE3781-KR-XXXL  3XL  JNE3781          kurta  B09K3WFS32\n",
       "2    JNE3371-KR-XL   XL  JNE3371          kurta  B07WV4JV4D\n",
       "3       J0341-DR-L    L    J0341  Western Dress  B099NRCT7B\n",
       "4  JNE3671-TU-XXXL  3XL  JNE3671            Top  B098714BZP"
      ]
     },
     "execution_count": 433,
     "metadata": {},
     "output_type": "execute_result"
    }
   ],
   "source": [
    "product_dim.head()"
   ]
  },
  {
   "cell_type": "code",
   "execution_count": 434,
   "metadata": {},
   "outputs": [
    {
     "data": {
      "text/plain": [
       "sku         6617\n",
       "size          11\n",
       "style       1240\n",
       "category       8\n",
       "asin        6616\n",
       "dtype: int64"
      ]
     },
     "execution_count": 434,
     "metadata": {},
     "output_type": "execute_result"
    }
   ],
   "source": [
    "product_dim.nunique()"
   ]
  },
  {
   "cell_type": "code",
   "execution_count": 435,
   "metadata": {},
   "outputs": [
    {
     "data": {
      "text/html": [
       "<div>\n",
       "<style scoped>\n",
       "    .dataframe tbody tr th:only-of-type {\n",
       "        vertical-align: middle;\n",
       "    }\n",
       "\n",
       "    .dataframe tbody tr th {\n",
       "        vertical-align: top;\n",
       "    }\n",
       "\n",
       "    .dataframe thead th {\n",
       "        text-align: right;\n",
       "    }\n",
       "</style>\n",
       "<table border=\"1\" class=\"dataframe\">\n",
       "  <thead>\n",
       "    <tr style=\"text-align: right;\">\n",
       "      <th></th>\n",
       "      <th>sku</th>\n",
       "      <th>size</th>\n",
       "      <th>style</th>\n",
       "      <th>category</th>\n",
       "      <th>asin</th>\n",
       "    </tr>\n",
       "  </thead>\n",
       "  <tbody>\n",
       "    <tr>\n",
       "      <th>33841</th>\n",
       "      <td>AN208-MUSTARD-M</td>\n",
       "      <td>M</td>\n",
       "      <td>AN208</td>\n",
       "      <td>Bottom</td>\n",
       "      <td>B091GNW3B1</td>\n",
       "    </tr>\n",
       "    <tr>\n",
       "      <th>60234</th>\n",
       "      <td>CH208-MUSTARD-M</td>\n",
       "      <td>M</td>\n",
       "      <td>CH208</td>\n",
       "      <td>Bottom</td>\n",
       "      <td>B091GNW3B1</td>\n",
       "    </tr>\n",
       "  </tbody>\n",
       "</table>\n",
       "</div>"
      ],
      "text/plain": [
       "                   sku size  style category        asin\n",
       "33841  AN208-MUSTARD-M    M  AN208   Bottom  B091GNW3B1\n",
       "60234  CH208-MUSTARD-M    M  CH208   Bottom  B091GNW3B1"
      ]
     },
     "execution_count": 435,
     "metadata": {},
     "output_type": "execute_result"
    }
   ],
   "source": [
    "product_dim[product_dim['asin'].duplicated(keep=False)].sort_values('asin').head(10)"
   ]
  },
  {
   "cell_type": "code",
   "execution_count": 436,
   "metadata": {},
   "outputs": [],
   "source": [
    "product_dim.to_csv('./dimensions/product_dim_file.csv', index=False)"
   ]
  },
  {
   "attachments": {},
   "cell_type": "markdown",
   "metadata": {},
   "source": [
    "## Create some change to represent SCD"
   ]
  },
  {
   "cell_type": "code",
   "execution_count": 437,
   "metadata": {},
   "outputs": [
    {
     "data": {
      "text/html": [
       "<div>\n",
       "<style scoped>\n",
       "    .dataframe tbody tr th:only-of-type {\n",
       "        vertical-align: middle;\n",
       "    }\n",
       "\n",
       "    .dataframe tbody tr th {\n",
       "        vertical-align: top;\n",
       "    }\n",
       "\n",
       "    .dataframe thead th {\n",
       "        text-align: right;\n",
       "    }\n",
       "</style>\n",
       "<table border=\"1\" class=\"dataframe\">\n",
       "  <thead>\n",
       "    <tr style=\"text-align: right;\">\n",
       "      <th></th>\n",
       "      <th>sku</th>\n",
       "      <th>size</th>\n",
       "      <th>style</th>\n",
       "      <th>category</th>\n",
       "      <th>asin</th>\n",
       "    </tr>\n",
       "  </thead>\n",
       "  <tbody>\n",
       "    <tr>\n",
       "      <th>0</th>\n",
       "      <td>SET389-KR-NP-S</td>\n",
       "      <td>S</td>\n",
       "      <td>SET389</td>\n",
       "      <td>Set</td>\n",
       "      <td>B09KXVBD7Z</td>\n",
       "    </tr>\n",
       "    <tr>\n",
       "      <th>1</th>\n",
       "      <td>JNE3781-KR-XXXL</td>\n",
       "      <td>3XL</td>\n",
       "      <td>JNE3781</td>\n",
       "      <td>kurta</td>\n",
       "      <td>B09K3WFS32</td>\n",
       "    </tr>\n",
       "    <tr>\n",
       "      <th>2</th>\n",
       "      <td>JNE3371-KR-XL</td>\n",
       "      <td>XL</td>\n",
       "      <td>JNE3371</td>\n",
       "      <td>kurta</td>\n",
       "      <td>B07WV4JV4D</td>\n",
       "    </tr>\n",
       "    <tr>\n",
       "      <th>3</th>\n",
       "      <td>J0341-DR-L</td>\n",
       "      <td>L</td>\n",
       "      <td>J0341</td>\n",
       "      <td>Western Dress</td>\n",
       "      <td>B099NRCT7B</td>\n",
       "    </tr>\n",
       "    <tr>\n",
       "      <th>4</th>\n",
       "      <td>JNE3671-TU-XXXL</td>\n",
       "      <td>3XL</td>\n",
       "      <td>JNE3671</td>\n",
       "      <td>Top</td>\n",
       "      <td>B098714BZP</td>\n",
       "    </tr>\n",
       "    <tr>\n",
       "      <th>...</th>\n",
       "      <td>...</td>\n",
       "      <td>...</td>\n",
       "      <td>...</td>\n",
       "      <td>...</td>\n",
       "      <td>...</td>\n",
       "    </tr>\n",
       "    <tr>\n",
       "      <th>119824</th>\n",
       "      <td>J0286-KR-L</td>\n",
       "      <td>L</td>\n",
       "      <td>J0286</td>\n",
       "      <td>kurta</td>\n",
       "      <td>B08PV2GZ9Z</td>\n",
       "    </tr>\n",
       "    <tr>\n",
       "      <th>119976</th>\n",
       "      <td>J0319-KR-XL</td>\n",
       "      <td>XL</td>\n",
       "      <td>J0319</td>\n",
       "      <td>kurta</td>\n",
       "      <td>B08PV3R8YL</td>\n",
       "    </tr>\n",
       "    <tr>\n",
       "      <th>120439</th>\n",
       "      <td>JNE3398-KR-XL</td>\n",
       "      <td>XL</td>\n",
       "      <td>JNE3398</td>\n",
       "      <td>kurta</td>\n",
       "      <td>B082W81KNG</td>\n",
       "    </tr>\n",
       "    <tr>\n",
       "      <th>120848</th>\n",
       "      <td>JNE3370-KR-S</td>\n",
       "      <td>S</td>\n",
       "      <td>JNE3370</td>\n",
       "      <td>kurta</td>\n",
       "      <td>B081X6MVKK</td>\n",
       "    </tr>\n",
       "    <tr>\n",
       "      <th>121056</th>\n",
       "      <td>JNE3678-TU-XXL</td>\n",
       "      <td>XXL</td>\n",
       "      <td>JNE3678</td>\n",
       "      <td>Top</td>\n",
       "      <td>B0943HSR64</td>\n",
       "    </tr>\n",
       "  </tbody>\n",
       "</table>\n",
       "<p>6617 rows × 5 columns</p>\n",
       "</div>"
      ],
      "text/plain": [
       "                    sku size    style       category        asin\n",
       "0        SET389-KR-NP-S    S   SET389            Set  B09KXVBD7Z\n",
       "1       JNE3781-KR-XXXL  3XL  JNE3781          kurta  B09K3WFS32\n",
       "2         JNE3371-KR-XL   XL  JNE3371          kurta  B07WV4JV4D\n",
       "3            J0341-DR-L    L    J0341  Western Dress  B099NRCT7B\n",
       "4       JNE3671-TU-XXXL  3XL  JNE3671            Top  B098714BZP\n",
       "...                 ...  ...      ...            ...         ...\n",
       "119824       J0286-KR-L    L    J0286          kurta  B08PV2GZ9Z\n",
       "119976      J0319-KR-XL   XL    J0319          kurta  B08PV3R8YL\n",
       "120439    JNE3398-KR-XL   XL  JNE3398          kurta  B082W81KNG\n",
       "120848     JNE3370-KR-S    S  JNE3370          kurta  B081X6MVKK\n",
       "121056   JNE3678-TU-XXL  XXL  JNE3678            Top  B0943HSR64\n",
       "\n",
       "[6617 rows x 5 columns]"
      ]
     },
     "execution_count": 437,
     "metadata": {},
     "output_type": "execute_result"
    }
   ],
   "source": [
    "product_dim"
   ]
  },
  {
   "cell_type": "code",
   "execution_count": 438,
   "metadata": {},
   "outputs": [
    {
     "data": {
      "text/plain": [
       "array(['Set', 'kurta', 'Western Dress', 'Top', 'Ethnic Dress', 'Bottom',\n",
       "       'Saree', 'Blouse'], dtype=object)"
      ]
     },
     "execution_count": 438,
     "metadata": {},
     "output_type": "execute_result"
    }
   ],
   "source": [
    "product_dim['category'].unique()"
   ]
  },
  {
   "cell_type": "code",
   "execution_count": 439,
   "metadata": {},
   "outputs": [
    {
     "data": {
      "text/plain": [
       "6"
      ]
     },
     "execution_count": 439,
     "metadata": {},
     "output_type": "execute_result"
    }
   ],
   "source": [
    "1\n",
    "2\n",
    "3\n",
    "4\n",
    "5\n",
    "6"
   ]
  },
  {
   "cell_type": "code",
   "execution_count": 440,
   "metadata": {},
   "outputs": [
    {
     "name": "stderr",
     "output_type": "stream",
     "text": [
      "/var/folders/pf/z8gx8qw104xby0jdggl6xdnc0000gn/T/ipykernel_48561/1686239019.py:7: FutureWarning: The frame.append method is deprecated and will be removed from pandas in a future version. Use pandas.concat instead.\n",
      "  product_dim = product_dim.append(new_row, ignore_index=True)\n"
     ]
    }
   ],
   "source": [
    "for index, row in product_dim.iterrows():\n",
    "    random_number = np.random.randint(1, 100)\n",
    "    \n",
    "    if(random_number <= 5):\n",
    "        new_row = row.copy()\n",
    "        new_row['style'] = 'new_style'\n",
    "        product_dim = product_dim.append(new_row, ignore_index=True)\n",
    "\n",
    "product_dim = product_dim.drop_duplicates(subset=['sku'], keep='last')\n",
    "product_dim.reset_index(drop=True, inplace=True)"
   ]
  },
  {
   "cell_type": "code",
   "execution_count": 441,
   "metadata": {},
   "outputs": [
    {
     "name": "stderr",
     "output_type": "stream",
     "text": [
      "/var/folders/pf/z8gx8qw104xby0jdggl6xdnc0000gn/T/ipykernel_48561/3584195563.py:9: FutureWarning: The frame.append method is deprecated and will be removed from pandas in a future version. Use pandas.concat instead.\n",
      "  product_dim = product_dim.append(new_df, ignore_index=True)\n"
     ]
    }
   ],
   "source": [
    "new_df = pd.DataFrame({\n",
    "    'sku': ['UWAD-AA-1Z', 'UwU-1Z', 'Afqwqa-12-2Z', 'ShaAg-CHI-3Z', 'I-Luv-Dw-2023'],\n",
    "    'size': ['S', 'M', 'Free', 'XL', '2XL'],\n",
    "    'style': ['SET211', 'LoveDW', 'PR0j3ct', 'FuNn1', 'B19K3XFS39'],\n",
    "    'category': ['Set', 'kurta', 'Western Dress', 'Top', 'Ethnic Dress'],\n",
    "    'asin': ['asdfzx2qwex1', '123ad1wasfwefr', 'asoidfuaso8fd1', 'asdflasodf2', 'asdiofas21edv']\n",
    "})\n",
    "\n",
    "product_dim = product_dim.append(new_df, ignore_index=True)"
   ]
  },
  {
   "cell_type": "code",
   "execution_count": 442,
   "metadata": {},
   "outputs": [
    {
     "data": {
      "text/html": [
       "<div>\n",
       "<style scoped>\n",
       "    .dataframe tbody tr th:only-of-type {\n",
       "        vertical-align: middle;\n",
       "    }\n",
       "\n",
       "    .dataframe tbody tr th {\n",
       "        vertical-align: top;\n",
       "    }\n",
       "\n",
       "    .dataframe thead th {\n",
       "        text-align: right;\n",
       "    }\n",
       "</style>\n",
       "<table border=\"1\" class=\"dataframe\">\n",
       "  <thead>\n",
       "    <tr style=\"text-align: right;\">\n",
       "      <th></th>\n",
       "      <th>sku</th>\n",
       "      <th>size</th>\n",
       "      <th>style</th>\n",
       "      <th>category</th>\n",
       "      <th>asin</th>\n",
       "    </tr>\n",
       "  </thead>\n",
       "  <tbody>\n",
       "    <tr>\n",
       "      <th>0</th>\n",
       "      <td>SET389-KR-NP-S</td>\n",
       "      <td>S</td>\n",
       "      <td>SET389</td>\n",
       "      <td>Set</td>\n",
       "      <td>B09KXVBD7Z</td>\n",
       "    </tr>\n",
       "    <tr>\n",
       "      <th>1</th>\n",
       "      <td>JNE3781-KR-XXXL</td>\n",
       "      <td>3XL</td>\n",
       "      <td>JNE3781</td>\n",
       "      <td>kurta</td>\n",
       "      <td>B09K3WFS32</td>\n",
       "    </tr>\n",
       "    <tr>\n",
       "      <th>2</th>\n",
       "      <td>JNE3371-KR-XL</td>\n",
       "      <td>XL</td>\n",
       "      <td>JNE3371</td>\n",
       "      <td>kurta</td>\n",
       "      <td>B07WV4JV4D</td>\n",
       "    </tr>\n",
       "    <tr>\n",
       "      <th>3</th>\n",
       "      <td>J0341-DR-L</td>\n",
       "      <td>L</td>\n",
       "      <td>J0341</td>\n",
       "      <td>Western Dress</td>\n",
       "      <td>B099NRCT7B</td>\n",
       "    </tr>\n",
       "    <tr>\n",
       "      <th>4</th>\n",
       "      <td>JNE3671-TU-XXXL</td>\n",
       "      <td>3XL</td>\n",
       "      <td>JNE3671</td>\n",
       "      <td>Top</td>\n",
       "      <td>B098714BZP</td>\n",
       "    </tr>\n",
       "    <tr>\n",
       "      <th>...</th>\n",
       "      <td>...</td>\n",
       "      <td>...</td>\n",
       "      <td>...</td>\n",
       "      <td>...</td>\n",
       "      <td>...</td>\n",
       "    </tr>\n",
       "    <tr>\n",
       "      <th>6617</th>\n",
       "      <td>UWAD-AA-1Z</td>\n",
       "      <td>S</td>\n",
       "      <td>SET211</td>\n",
       "      <td>Set</td>\n",
       "      <td>asdfzx2qwex1</td>\n",
       "    </tr>\n",
       "    <tr>\n",
       "      <th>6618</th>\n",
       "      <td>UwU-1Z</td>\n",
       "      <td>M</td>\n",
       "      <td>LoveDW</td>\n",
       "      <td>kurta</td>\n",
       "      <td>123ad1wasfwefr</td>\n",
       "    </tr>\n",
       "    <tr>\n",
       "      <th>6619</th>\n",
       "      <td>Afqwqa-12-2Z</td>\n",
       "      <td>Free</td>\n",
       "      <td>PR0j3ct</td>\n",
       "      <td>Western Dress</td>\n",
       "      <td>asoidfuaso8fd1</td>\n",
       "    </tr>\n",
       "    <tr>\n",
       "      <th>6620</th>\n",
       "      <td>ShaAg-CHI-3Z</td>\n",
       "      <td>XL</td>\n",
       "      <td>FuNn1</td>\n",
       "      <td>Top</td>\n",
       "      <td>asdflasodf2</td>\n",
       "    </tr>\n",
       "    <tr>\n",
       "      <th>6621</th>\n",
       "      <td>I-Luv-Dw-2023</td>\n",
       "      <td>2XL</td>\n",
       "      <td>B19K3XFS39</td>\n",
       "      <td>Ethnic Dress</td>\n",
       "      <td>asdiofas21edv</td>\n",
       "    </tr>\n",
       "  </tbody>\n",
       "</table>\n",
       "<p>6622 rows × 5 columns</p>\n",
       "</div>"
      ],
      "text/plain": [
       "                  sku  size       style       category            asin\n",
       "0      SET389-KR-NP-S     S      SET389            Set      B09KXVBD7Z\n",
       "1     JNE3781-KR-XXXL   3XL     JNE3781          kurta      B09K3WFS32\n",
       "2       JNE3371-KR-XL    XL     JNE3371          kurta      B07WV4JV4D\n",
       "3          J0341-DR-L     L       J0341  Western Dress      B099NRCT7B\n",
       "4     JNE3671-TU-XXXL   3XL     JNE3671            Top      B098714BZP\n",
       "...               ...   ...         ...            ...             ...\n",
       "6617       UWAD-AA-1Z     S      SET211            Set    asdfzx2qwex1\n",
       "6618           UwU-1Z     M      LoveDW          kurta  123ad1wasfwefr\n",
       "6619     Afqwqa-12-2Z  Free     PR0j3ct  Western Dress  asoidfuaso8fd1\n",
       "6620     ShaAg-CHI-3Z    XL       FuNn1            Top     asdflasodf2\n",
       "6621    I-Luv-Dw-2023   2XL  B19K3XFS39   Ethnic Dress   asdiofas21edv\n",
       "\n",
       "[6622 rows x 5 columns]"
      ]
     },
     "execution_count": 442,
     "metadata": {},
     "output_type": "execute_result"
    }
   ],
   "source": [
    "product_dim.reset_index(drop=True, inplace=True)\n",
    "product_dim"
   ]
  },
  {
   "cell_type": "code",
   "execution_count": 443,
   "metadata": {},
   "outputs": [
    {
     "data": {
      "text/html": [
       "<div>\n",
       "<style scoped>\n",
       "    .dataframe tbody tr th:only-of-type {\n",
       "        vertical-align: middle;\n",
       "    }\n",
       "\n",
       "    .dataframe tbody tr th {\n",
       "        vertical-align: top;\n",
       "    }\n",
       "\n",
       "    .dataframe thead th {\n",
       "        text-align: right;\n",
       "    }\n",
       "</style>\n",
       "<table border=\"1\" class=\"dataframe\">\n",
       "  <thead>\n",
       "    <tr style=\"text-align: right;\">\n",
       "      <th></th>\n",
       "      <th>sku</th>\n",
       "      <th>size</th>\n",
       "      <th>style</th>\n",
       "      <th>category</th>\n",
       "      <th>asin</th>\n",
       "    </tr>\n",
       "  </thead>\n",
       "  <tbody>\n",
       "    <tr>\n",
       "      <th>6274</th>\n",
       "      <td>SET345-KR-NP-M</td>\n",
       "      <td>M</td>\n",
       "      <td>new_style</td>\n",
       "      <td>Set</td>\n",
       "      <td>B09KXV4BN8</td>\n",
       "    </tr>\n",
       "    <tr>\n",
       "      <th>6275</th>\n",
       "      <td>JNE3373-KR-XL</td>\n",
       "      <td>XL</td>\n",
       "      <td>new_style</td>\n",
       "      <td>kurta</td>\n",
       "      <td>B082W8BXW1</td>\n",
       "    </tr>\n",
       "    <tr>\n",
       "      <th>6276</th>\n",
       "      <td>J0401-DR-XXXL</td>\n",
       "      <td>3XL</td>\n",
       "      <td>new_style</td>\n",
       "      <td>Western Dress</td>\n",
       "      <td>B09SDXZBGX</td>\n",
       "    </tr>\n",
       "    <tr>\n",
       "      <th>6277</th>\n",
       "      <td>JNE3744-TU-S</td>\n",
       "      <td>S</td>\n",
       "      <td>new_style</td>\n",
       "      <td>Top</td>\n",
       "      <td>B0986ZHR9D</td>\n",
       "    </tr>\n",
       "    <tr>\n",
       "      <th>6278</th>\n",
       "      <td>JNE3579-KR-M</td>\n",
       "      <td>M</td>\n",
       "      <td>new_style</td>\n",
       "      <td>kurta</td>\n",
       "      <td>B08QGK2BS2</td>\n",
       "    </tr>\n",
       "    <tr>\n",
       "      <th>...</th>\n",
       "      <td>...</td>\n",
       "      <td>...</td>\n",
       "      <td>...</td>\n",
       "      <td>...</td>\n",
       "      <td>...</td>\n",
       "    </tr>\n",
       "    <tr>\n",
       "      <th>6612</th>\n",
       "      <td>J0137-SET-M</td>\n",
       "      <td>M</td>\n",
       "      <td>new_style</td>\n",
       "      <td>Set</td>\n",
       "      <td>B091Z6HG48</td>\n",
       "    </tr>\n",
       "    <tr>\n",
       "      <th>6613</th>\n",
       "      <td>SET414-KR-NP-M</td>\n",
       "      <td>M</td>\n",
       "      <td>new_style</td>\n",
       "      <td>Set</td>\n",
       "      <td>B09Y3G5RBY</td>\n",
       "    </tr>\n",
       "    <tr>\n",
       "      <th>6614</th>\n",
       "      <td>JNE3394-KR-S</td>\n",
       "      <td>S</td>\n",
       "      <td>new_style</td>\n",
       "      <td>kurta</td>\n",
       "      <td>B083SMP2W2</td>\n",
       "    </tr>\n",
       "    <tr>\n",
       "      <th>6615</th>\n",
       "      <td>J0121-TP-S</td>\n",
       "      <td>S</td>\n",
       "      <td>new_style</td>\n",
       "      <td>Top</td>\n",
       "      <td>B08MYN1QTZ</td>\n",
       "    </tr>\n",
       "    <tr>\n",
       "      <th>6616</th>\n",
       "      <td>BL087-L</td>\n",
       "      <td>L</td>\n",
       "      <td>new_style</td>\n",
       "      <td>Blouse</td>\n",
       "      <td>B08424FRVR</td>\n",
       "    </tr>\n",
       "  </tbody>\n",
       "</table>\n",
       "<p>343 rows × 5 columns</p>\n",
       "</div>"
      ],
      "text/plain": [
       "                 sku size      style       category        asin\n",
       "6274  SET345-KR-NP-M    M  new_style            Set  B09KXV4BN8\n",
       "6275   JNE3373-KR-XL   XL  new_style          kurta  B082W8BXW1\n",
       "6276   J0401-DR-XXXL  3XL  new_style  Western Dress  B09SDXZBGX\n",
       "6277    JNE3744-TU-S    S  new_style            Top  B0986ZHR9D\n",
       "6278    JNE3579-KR-M    M  new_style          kurta  B08QGK2BS2\n",
       "...              ...  ...        ...            ...         ...\n",
       "6612     J0137-SET-M    M  new_style            Set  B091Z6HG48\n",
       "6613  SET414-KR-NP-M    M  new_style            Set  B09Y3G5RBY\n",
       "6614    JNE3394-KR-S    S  new_style          kurta  B083SMP2W2\n",
       "6615      J0121-TP-S    S  new_style            Top  B08MYN1QTZ\n",
       "6616         BL087-L    L  new_style         Blouse  B08424FRVR\n",
       "\n",
       "[343 rows x 5 columns]"
      ]
     },
     "execution_count": 443,
     "metadata": {},
     "output_type": "execute_result"
    }
   ],
   "source": [
    "product_dim[product_dim['style'] == 'new_style']"
   ]
  },
  {
   "cell_type": "code",
   "execution_count": 444,
   "metadata": {},
   "outputs": [
    {
     "data": {
      "text/html": [
       "<div>\n",
       "<style scoped>\n",
       "    .dataframe tbody tr th:only-of-type {\n",
       "        vertical-align: middle;\n",
       "    }\n",
       "\n",
       "    .dataframe tbody tr th {\n",
       "        vertical-align: top;\n",
       "    }\n",
       "\n",
       "    .dataframe thead th {\n",
       "        text-align: right;\n",
       "    }\n",
       "</style>\n",
       "<table border=\"1\" class=\"dataframe\">\n",
       "  <thead>\n",
       "    <tr style=\"text-align: right;\">\n",
       "      <th></th>\n",
       "      <th>sku</th>\n",
       "      <th>size</th>\n",
       "      <th>style</th>\n",
       "      <th>category</th>\n",
       "      <th>asin</th>\n",
       "    </tr>\n",
       "  </thead>\n",
       "  <tbody>\n",
       "    <tr>\n",
       "      <th>5</th>\n",
       "      <td>SET264-KR-NP-XL</td>\n",
       "      <td>XL</td>\n",
       "      <td>SET264</td>\n",
       "      <td>Set</td>\n",
       "      <td>B08YN7XDSG</td>\n",
       "    </tr>\n",
       "  </tbody>\n",
       "</table>\n",
       "</div>"
      ],
      "text/plain": [
       "               sku size   style category        asin\n",
       "5  SET264-KR-NP-XL   XL  SET264      Set  B08YN7XDSG"
      ]
     },
     "execution_count": 444,
     "metadata": {},
     "output_type": "execute_result"
    }
   ],
   "source": [
    "product_dim[product_dim['sku'] == 'SET264-KR-NP-XL']"
   ]
  },
  {
   "cell_type": "code",
   "execution_count": 445,
   "metadata": {},
   "outputs": [],
   "source": [
    "product_dim.to_csv('./dimensions/changed_product_dim_file.csv', index=False)"
   ]
  }
 ],
 "metadata": {
  "kernelspec": {
   "display_name": "base",
   "language": "python",
   "name": "python3"
  },
  "language_info": {
   "codemirror_mode": {
    "name": "ipython",
    "version": 3
   },
   "file_extension": ".py",
   "mimetype": "text/x-python",
   "name": "python",
   "nbconvert_exporter": "python",
   "pygments_lexer": "ipython3",
   "version": "3.9.6"
  },
  "orig_nbformat": 4
 },
 "nbformat": 4,
 "nbformat_minor": 2
}
