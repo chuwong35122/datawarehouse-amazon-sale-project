{
 "cells": [
  {
   "attachments": {},
   "cell_type": "markdown",
   "metadata": {},
   "source": [
    "# Create Product Dim Data"
   ]
  },
  {
   "cell_type": "code",
   "execution_count": 73,
   "metadata": {},
   "outputs": [],
   "source": [
    "import pandas as pd\n",
    "import numpy as np"
   ]
  },
  {
   "attachments": {},
   "cell_type": "markdown",
   "metadata": {},
   "source": [
    "# Product dim csv file"
   ]
  },
  {
   "cell_type": "code",
   "execution_count": 74,
   "metadata": {},
   "outputs": [],
   "source": [
    "df = pd.read_csv('./data/datetime_amazon_sale_report.csv')"
   ]
  },
  {
   "cell_type": "code",
   "execution_count": 75,
   "metadata": {},
   "outputs": [],
   "source": [
    "product_dim = pd.DataFrame()\n",
    "df = df[['sku', 'size', 'style', 'category', 'asin']]\n",
    "\n",
    "product_dim = df.drop_duplicates(subset=['sku'])\n",
    "\n"
   ]
  },
  {
   "cell_type": "code",
   "execution_count": 76,
   "metadata": {},
   "outputs": [
    {
     "name": "stdout",
     "output_type": "stream",
     "text": [
      "(121269, 5)\n",
      "(6617, 5)\n"
     ]
    }
   ],
   "source": [
    "print(df.shape)\n",
    "print(product_dim.shape)\n"
   ]
  },
  {
   "cell_type": "code",
   "execution_count": 77,
   "metadata": {},
   "outputs": [
    {
     "name": "stdout",
     "output_type": "stream",
     "text": [
      "JNE3797-KR-L      773\n",
      "JNE3797-KR-M      657\n",
      "JNE3797-KR-S      587\n",
      "JNE3405-KR-L      535\n",
      "J0230-SKD-M       507\n",
      "JNE3797-KR-XL     474\n",
      "J0230-SKD-S       452\n",
      "JNE3405-KR-S      443\n",
      "JNE3797-KR-XS     431\n",
      "JNE3797-KR-XXL    395\n",
      "Name: sku, dtype: int64\n",
      "B09SDXFFQ1    773\n",
      "B09SDY8DCT    657\n",
      "B09SDYQ3WG    587\n",
      "B081WSCKPQ    535\n",
      "B08XNJG8B1    507\n",
      "B09SDXRYBG    474\n",
      "B08XNJ19QH    452\n",
      "B081WX4G4Q    443\n",
      "B09SDY9SQ6    431\n",
      "B09SDXSQ33    395\n",
      "Name: asin, dtype: int64\n",
      "6617\n",
      "6620\n"
     ]
    }
   ],
   "source": [
    "print(df['sku'].value_counts().head(10))\n",
    "print(df['asin'].value_counts().head(10))\n",
    "print(df['sku'].nunique())\n",
    "print(df['asin'].nunique())\n"
   ]
  },
  {
   "cell_type": "code",
   "execution_count": 78,
   "metadata": {},
   "outputs": [
    {
     "data": {
      "text/html": [
       "<div>\n",
       "<style scoped>\n",
       "    .dataframe tbody tr th:only-of-type {\n",
       "        vertical-align: middle;\n",
       "    }\n",
       "\n",
       "    .dataframe tbody tr th {\n",
       "        vertical-align: top;\n",
       "    }\n",
       "\n",
       "    .dataframe thead th {\n",
       "        text-align: right;\n",
       "    }\n",
       "</style>\n",
       "<table border=\"1\" class=\"dataframe\">\n",
       "  <thead>\n",
       "    <tr style=\"text-align: right;\">\n",
       "      <th></th>\n",
       "      <th>sku</th>\n",
       "      <th>size</th>\n",
       "      <th>style</th>\n",
       "      <th>category</th>\n",
       "      <th>asin</th>\n",
       "    </tr>\n",
       "  </thead>\n",
       "  <tbody>\n",
       "    <tr>\n",
       "      <th>0</th>\n",
       "      <td>SET389-KR-NP-S</td>\n",
       "      <td>S</td>\n",
       "      <td>SET389</td>\n",
       "      <td>Set</td>\n",
       "      <td>B09KXVBD7Z</td>\n",
       "    </tr>\n",
       "    <tr>\n",
       "      <th>1</th>\n",
       "      <td>JNE3781-KR-XXXL</td>\n",
       "      <td>3XL</td>\n",
       "      <td>JNE3781</td>\n",
       "      <td>kurta</td>\n",
       "      <td>B09K3WFS32</td>\n",
       "    </tr>\n",
       "    <tr>\n",
       "      <th>2</th>\n",
       "      <td>JNE3371-KR-XL</td>\n",
       "      <td>XL</td>\n",
       "      <td>JNE3371</td>\n",
       "      <td>kurta</td>\n",
       "      <td>B07WV4JV4D</td>\n",
       "    </tr>\n",
       "    <tr>\n",
       "      <th>3</th>\n",
       "      <td>J0341-DR-L</td>\n",
       "      <td>L</td>\n",
       "      <td>J0341</td>\n",
       "      <td>Western Dress</td>\n",
       "      <td>B099NRCT7B</td>\n",
       "    </tr>\n",
       "    <tr>\n",
       "      <th>4</th>\n",
       "      <td>JNE3671-TU-XXXL</td>\n",
       "      <td>3XL</td>\n",
       "      <td>JNE3671</td>\n",
       "      <td>Top</td>\n",
       "      <td>B098714BZP</td>\n",
       "    </tr>\n",
       "  </tbody>\n",
       "</table>\n",
       "</div>"
      ],
      "text/plain": [
       "               sku size    style       category        asin\n",
       "0   SET389-KR-NP-S    S   SET389            Set  B09KXVBD7Z\n",
       "1  JNE3781-KR-XXXL  3XL  JNE3781          kurta  B09K3WFS32\n",
       "2    JNE3371-KR-XL   XL  JNE3371          kurta  B07WV4JV4D\n",
       "3       J0341-DR-L    L    J0341  Western Dress  B099NRCT7B\n",
       "4  JNE3671-TU-XXXL  3XL  JNE3671            Top  B098714BZP"
      ]
     },
     "execution_count": 78,
     "metadata": {},
     "output_type": "execute_result"
    }
   ],
   "source": [
    "product_dim.head()"
   ]
  },
  {
   "cell_type": "code",
   "execution_count": 79,
   "metadata": {},
   "outputs": [
    {
     "data": {
      "text/plain": [
       "sku         6617\n",
       "size          11\n",
       "style       1240\n",
       "category       8\n",
       "asin        6616\n",
       "dtype: int64"
      ]
     },
     "execution_count": 79,
     "metadata": {},
     "output_type": "execute_result"
    }
   ],
   "source": [
    "product_dim.nunique()"
   ]
  },
  {
   "cell_type": "code",
   "execution_count": 80,
   "metadata": {},
   "outputs": [
    {
     "data": {
      "text/html": [
       "<div>\n",
       "<style scoped>\n",
       "    .dataframe tbody tr th:only-of-type {\n",
       "        vertical-align: middle;\n",
       "    }\n",
       "\n",
       "    .dataframe tbody tr th {\n",
       "        vertical-align: top;\n",
       "    }\n",
       "\n",
       "    .dataframe thead th {\n",
       "        text-align: right;\n",
       "    }\n",
       "</style>\n",
       "<table border=\"1\" class=\"dataframe\">\n",
       "  <thead>\n",
       "    <tr style=\"text-align: right;\">\n",
       "      <th></th>\n",
       "      <th>sku</th>\n",
       "      <th>size</th>\n",
       "      <th>style</th>\n",
       "      <th>category</th>\n",
       "      <th>asin</th>\n",
       "    </tr>\n",
       "  </thead>\n",
       "  <tbody>\n",
       "    <tr>\n",
       "      <th>33841</th>\n",
       "      <td>AN208-MUSTARD-M</td>\n",
       "      <td>M</td>\n",
       "      <td>AN208</td>\n",
       "      <td>Bottom</td>\n",
       "      <td>B091GNW3B1</td>\n",
       "    </tr>\n",
       "    <tr>\n",
       "      <th>60234</th>\n",
       "      <td>CH208-MUSTARD-M</td>\n",
       "      <td>M</td>\n",
       "      <td>CH208</td>\n",
       "      <td>Bottom</td>\n",
       "      <td>B091GNW3B1</td>\n",
       "    </tr>\n",
       "  </tbody>\n",
       "</table>\n",
       "</div>"
      ],
      "text/plain": [
       "                   sku size  style category        asin\n",
       "33841  AN208-MUSTARD-M    M  AN208   Bottom  B091GNW3B1\n",
       "60234  CH208-MUSTARD-M    M  CH208   Bottom  B091GNW3B1"
      ]
     },
     "execution_count": 80,
     "metadata": {},
     "output_type": "execute_result"
    }
   ],
   "source": [
    "product_dim[product_dim['asin'].duplicated(keep=False)].sort_values('asin').head(10)"
   ]
  },
  {
   "attachments": {},
   "cell_type": "markdown",
   "metadata": {},
   "source": [
    "## Create some change to represent SGD"
   ]
  },
  {
   "cell_type": "code",
   "execution_count": 81,
   "metadata": {},
   "outputs": [
    {
     "data": {
      "text/html": [
       "<div>\n",
       "<style scoped>\n",
       "    .dataframe tbody tr th:only-of-type {\n",
       "        vertical-align: middle;\n",
       "    }\n",
       "\n",
       "    .dataframe tbody tr th {\n",
       "        vertical-align: top;\n",
       "    }\n",
       "\n",
       "    .dataframe thead th {\n",
       "        text-align: right;\n",
       "    }\n",
       "</style>\n",
       "<table border=\"1\" class=\"dataframe\">\n",
       "  <thead>\n",
       "    <tr style=\"text-align: right;\">\n",
       "      <th></th>\n",
       "      <th>sku</th>\n",
       "      <th>size</th>\n",
       "      <th>style</th>\n",
       "      <th>category</th>\n",
       "      <th>asin</th>\n",
       "    </tr>\n",
       "  </thead>\n",
       "  <tbody>\n",
       "    <tr>\n",
       "      <th>0</th>\n",
       "      <td>SET389-KR-NP-S</td>\n",
       "      <td>S</td>\n",
       "      <td>SET389</td>\n",
       "      <td>Set</td>\n",
       "      <td>B09KXVBD7Z</td>\n",
       "    </tr>\n",
       "    <tr>\n",
       "      <th>1</th>\n",
       "      <td>JNE3781-KR-XXXL</td>\n",
       "      <td>3XL</td>\n",
       "      <td>JNE3781</td>\n",
       "      <td>kurta</td>\n",
       "      <td>B09K3WFS32</td>\n",
       "    </tr>\n",
       "    <tr>\n",
       "      <th>2</th>\n",
       "      <td>JNE3371-KR-XL</td>\n",
       "      <td>XL</td>\n",
       "      <td>JNE3371</td>\n",
       "      <td>kurta</td>\n",
       "      <td>B07WV4JV4D</td>\n",
       "    </tr>\n",
       "    <tr>\n",
       "      <th>3</th>\n",
       "      <td>J0341-DR-L</td>\n",
       "      <td>L</td>\n",
       "      <td>J0341</td>\n",
       "      <td>Western Dress</td>\n",
       "      <td>B099NRCT7B</td>\n",
       "    </tr>\n",
       "    <tr>\n",
       "      <th>4</th>\n",
       "      <td>JNE3671-TU-XXXL</td>\n",
       "      <td>3XL</td>\n",
       "      <td>JNE3671</td>\n",
       "      <td>Top</td>\n",
       "      <td>B098714BZP</td>\n",
       "    </tr>\n",
       "    <tr>\n",
       "      <th>...</th>\n",
       "      <td>...</td>\n",
       "      <td>...</td>\n",
       "      <td>...</td>\n",
       "      <td>...</td>\n",
       "      <td>...</td>\n",
       "    </tr>\n",
       "    <tr>\n",
       "      <th>119824</th>\n",
       "      <td>J0286-KR-L</td>\n",
       "      <td>L</td>\n",
       "      <td>J0286</td>\n",
       "      <td>kurta</td>\n",
       "      <td>B08PV2GZ9Z</td>\n",
       "    </tr>\n",
       "    <tr>\n",
       "      <th>119976</th>\n",
       "      <td>J0319-KR-XL</td>\n",
       "      <td>XL</td>\n",
       "      <td>J0319</td>\n",
       "      <td>kurta</td>\n",
       "      <td>B08PV3R8YL</td>\n",
       "    </tr>\n",
       "    <tr>\n",
       "      <th>120439</th>\n",
       "      <td>JNE3398-KR-XL</td>\n",
       "      <td>XL</td>\n",
       "      <td>JNE3398</td>\n",
       "      <td>kurta</td>\n",
       "      <td>B082W81KNG</td>\n",
       "    </tr>\n",
       "    <tr>\n",
       "      <th>120848</th>\n",
       "      <td>JNE3370-KR-S</td>\n",
       "      <td>S</td>\n",
       "      <td>JNE3370</td>\n",
       "      <td>kurta</td>\n",
       "      <td>B081X6MVKK</td>\n",
       "    </tr>\n",
       "    <tr>\n",
       "      <th>121056</th>\n",
       "      <td>JNE3678-TU-XXL</td>\n",
       "      <td>XXL</td>\n",
       "      <td>JNE3678</td>\n",
       "      <td>Top</td>\n",
       "      <td>B0943HSR64</td>\n",
       "    </tr>\n",
       "  </tbody>\n",
       "</table>\n",
       "<p>6617 rows × 5 columns</p>\n",
       "</div>"
      ],
      "text/plain": [
       "                    sku size    style       category        asin\n",
       "0        SET389-KR-NP-S    S   SET389            Set  B09KXVBD7Z\n",
       "1       JNE3781-KR-XXXL  3XL  JNE3781          kurta  B09K3WFS32\n",
       "2         JNE3371-KR-XL   XL  JNE3371          kurta  B07WV4JV4D\n",
       "3            J0341-DR-L    L    J0341  Western Dress  B099NRCT7B\n",
       "4       JNE3671-TU-XXXL  3XL  JNE3671            Top  B098714BZP\n",
       "...                 ...  ...      ...            ...         ...\n",
       "119824       J0286-KR-L    L    J0286          kurta  B08PV2GZ9Z\n",
       "119976      J0319-KR-XL   XL    J0319          kurta  B08PV3R8YL\n",
       "120439    JNE3398-KR-XL   XL  JNE3398          kurta  B082W81KNG\n",
       "120848     JNE3370-KR-S    S  JNE3370          kurta  B081X6MVKK\n",
       "121056   JNE3678-TU-XXL  XXL  JNE3678            Top  B0943HSR64\n",
       "\n",
       "[6617 rows x 5 columns]"
      ]
     },
     "execution_count": 81,
     "metadata": {},
     "output_type": "execute_result"
    }
   ],
   "source": [
    "product_dim"
   ]
  },
  {
   "cell_type": "code",
   "execution_count": 82,
   "metadata": {},
   "outputs": [
    {
     "name": "stderr",
     "output_type": "stream",
     "text": [
      "/var/folders/pf/z8gx8qw104xby0jdggl6xdnc0000gn/T/ipykernel_48561/3088117168.py:8: FutureWarning: The frame.append method is deprecated and will be removed from pandas in a future version. Use pandas.concat instead.\n",
      "  product_dim = product_dim.append(random_row_product_dim, ignore_index=True)\n"
     ]
    }
   ],
   "source": [
    "for index, row in product_dim.iterrows():\n",
    "    random_number = np.random.randint(1, 100)\n",
    "    random_row = np.random.randint(0, len(product_dim)-1)\n",
    "    \n",
    "    if(random_number < 5):\n",
    "        random_row_product_dim = product_dim.iloc[random_row]\n",
    "        product_dim = product_dim.append(random_row_product_dim, ignore_index=True)\n"
   ]
  },
  {
   "cell_type": "code",
   "execution_count": 83,
   "metadata": {},
   "outputs": [
    {
     "data": {
      "text/html": [
       "<div>\n",
       "<style scoped>\n",
       "    .dataframe tbody tr th:only-of-type {\n",
       "        vertical-align: middle;\n",
       "    }\n",
       "\n",
       "    .dataframe tbody tr th {\n",
       "        vertical-align: top;\n",
       "    }\n",
       "\n",
       "    .dataframe thead th {\n",
       "        text-align: right;\n",
       "    }\n",
       "</style>\n",
       "<table border=\"1\" class=\"dataframe\">\n",
       "  <thead>\n",
       "    <tr style=\"text-align: right;\">\n",
       "      <th></th>\n",
       "      <th>sku</th>\n",
       "      <th>size</th>\n",
       "      <th>style</th>\n",
       "      <th>category</th>\n",
       "      <th>asin</th>\n",
       "    </tr>\n",
       "  </thead>\n",
       "  <tbody>\n",
       "    <tr>\n",
       "      <th>0</th>\n",
       "      <td>SET389-KR-NP-S</td>\n",
       "      <td>S</td>\n",
       "      <td>SET389</td>\n",
       "      <td>Set</td>\n",
       "      <td>B09KXVBD7Z</td>\n",
       "    </tr>\n",
       "    <tr>\n",
       "      <th>1</th>\n",
       "      <td>JNE3781-KR-XXXL</td>\n",
       "      <td>3XL</td>\n",
       "      <td>JNE3781</td>\n",
       "      <td>kurta</td>\n",
       "      <td>B09K3WFS32</td>\n",
       "    </tr>\n",
       "    <tr>\n",
       "      <th>2</th>\n",
       "      <td>JNE3371-KR-XL</td>\n",
       "      <td>XL</td>\n",
       "      <td>JNE3371</td>\n",
       "      <td>kurta</td>\n",
       "      <td>B07WV4JV4D</td>\n",
       "    </tr>\n",
       "    <tr>\n",
       "      <th>3</th>\n",
       "      <td>J0341-DR-L</td>\n",
       "      <td>L</td>\n",
       "      <td>J0341</td>\n",
       "      <td>Western Dress</td>\n",
       "      <td>B099NRCT7B</td>\n",
       "    </tr>\n",
       "    <tr>\n",
       "      <th>4</th>\n",
       "      <td>JNE3671-TU-XXXL</td>\n",
       "      <td>3XL</td>\n",
       "      <td>JNE3671</td>\n",
       "      <td>Top</td>\n",
       "      <td>B098714BZP</td>\n",
       "    </tr>\n",
       "    <tr>\n",
       "      <th>...</th>\n",
       "      <td>...</td>\n",
       "      <td>...</td>\n",
       "      <td>...</td>\n",
       "      <td>...</td>\n",
       "      <td>...</td>\n",
       "    </tr>\n",
       "    <tr>\n",
       "      <th>6899</th>\n",
       "      <td>MEN5007-KR-XL</td>\n",
       "      <td>XL</td>\n",
       "      <td>MEN5007</td>\n",
       "      <td>kurta</td>\n",
       "      <td>B08YYWG825</td>\n",
       "    </tr>\n",
       "    <tr>\n",
       "      <th>6900</th>\n",
       "      <td>J0112-TP-XXXL</td>\n",
       "      <td>3XL</td>\n",
       "      <td>J0112</td>\n",
       "      <td>Top</td>\n",
       "      <td>B08V1RWYZ2</td>\n",
       "    </tr>\n",
       "    <tr>\n",
       "      <th>6901</th>\n",
       "      <td>JNE3669-TU-XXL</td>\n",
       "      <td>XXL</td>\n",
       "      <td>JNE3669</td>\n",
       "      <td>Top</td>\n",
       "      <td>B09B3GVP53</td>\n",
       "    </tr>\n",
       "    <tr>\n",
       "      <th>6902</th>\n",
       "      <td>J0104-KR-S</td>\n",
       "      <td>S</td>\n",
       "      <td>J0104</td>\n",
       "      <td>kurta</td>\n",
       "      <td>B08BJQ4CN7</td>\n",
       "    </tr>\n",
       "    <tr>\n",
       "      <th>6903</th>\n",
       "      <td>JNE3548-KR-M</td>\n",
       "      <td>M</td>\n",
       "      <td>JNE3548</td>\n",
       "      <td>kurta</td>\n",
       "      <td>B08MXD7WBP</td>\n",
       "    </tr>\n",
       "  </tbody>\n",
       "</table>\n",
       "<p>6904 rows × 5 columns</p>\n",
       "</div>"
      ],
      "text/plain": [
       "                  sku size    style       category        asin\n",
       "0      SET389-KR-NP-S    S   SET389            Set  B09KXVBD7Z\n",
       "1     JNE3781-KR-XXXL  3XL  JNE3781          kurta  B09K3WFS32\n",
       "2       JNE3371-KR-XL   XL  JNE3371          kurta  B07WV4JV4D\n",
       "3          J0341-DR-L    L    J0341  Western Dress  B099NRCT7B\n",
       "4     JNE3671-TU-XXXL  3XL  JNE3671            Top  B098714BZP\n",
       "...               ...  ...      ...            ...         ...\n",
       "6899    MEN5007-KR-XL   XL  MEN5007          kurta  B08YYWG825\n",
       "6900    J0112-TP-XXXL  3XL    J0112            Top  B08V1RWYZ2\n",
       "6901   JNE3669-TU-XXL  XXL  JNE3669            Top  B09B3GVP53\n",
       "6902       J0104-KR-S    S    J0104          kurta  B08BJQ4CN7\n",
       "6903     JNE3548-KR-M    M  JNE3548          kurta  B08MXD7WBP\n",
       "\n",
       "[6904 rows x 5 columns]"
      ]
     },
     "execution_count": 83,
     "metadata": {},
     "output_type": "execute_result"
    }
   ],
   "source": [
    "product_dim"
   ]
  },
  {
   "cell_type": "code",
   "execution_count": 84,
   "metadata": {},
   "outputs": [],
   "source": [
    "product_dim.to_csv('./dimensions/product_dim.csv', index=False)"
   ]
  }
 ],
 "metadata": {
  "kernelspec": {
   "display_name": "base",
   "language": "python",
   "name": "python3"
  },
  "language_info": {
   "codemirror_mode": {
    "name": "ipython",
    "version": 3
   },
   "file_extension": ".py",
   "mimetype": "text/x-python",
   "name": "python",
   "nbconvert_exporter": "python",
   "pygments_lexer": "ipython3",
   "version": "3.9.6"
  },
  "orig_nbformat": 4
 },
 "nbformat": 4,
 "nbformat_minor": 2
}
