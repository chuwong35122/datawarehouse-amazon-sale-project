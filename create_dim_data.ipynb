{
 "cells": [
  {
   "cell_type": "code",
   "execution_count": 15,
   "metadata": {},
   "outputs": [],
   "source": [
    "import pandas as pd\n",
    "import numpy as np"
   ]
  },
  {
   "attachments": {},
   "cell_type": "markdown",
   "metadata": {},
   "source": [
    "# Product dim csv file"
   ]
  },
  {
   "cell_type": "code",
   "execution_count": 16,
   "metadata": {},
   "outputs": [],
   "source": [
    "df = pd.read_csv('./data/datetime_amazon_sale_report.csv')"
   ]
  },
  {
   "cell_type": "code",
   "execution_count": 17,
   "metadata": {},
   "outputs": [],
   "source": [
    "product_dim = pd.DataFrame()\n",
    "#from df get only columns sku, product_size, product_style, product_category, asin and use inplace = True\n",
    "df = df[['sku', 'size', 'style', 'category', 'asin']]\n",
    "\n",
    "# get all row that have unique SKU\n",
    "product_dim = df.drop_duplicates(subset=['sku'])\n",
    "\n"
   ]
  },
  {
   "cell_type": "code",
   "execution_count": 18,
   "metadata": {},
   "outputs": [
    {
     "name": "stdout",
     "output_type": "stream",
     "text": [
      "(121269, 5)\n",
      "(6617, 5)\n"
     ]
    }
   ],
   "source": [
    "#show the number of ow of df and product_dim\n",
    "print(df.shape)\n",
    "print(product_dim.shape)\n"
   ]
  },
  {
   "cell_type": "code",
   "execution_count": 19,
   "metadata": {},
   "outputs": [
    {
     "name": "stdout",
     "output_type": "stream",
     "text": [
      "JNE3797-KR-L      773\n",
      "JNE3797-KR-M      657\n",
      "JNE3797-KR-S      587\n",
      "JNE3405-KR-L      535\n",
      "J0230-SKD-M       507\n",
      "JNE3797-KR-XL     474\n",
      "J0230-SKD-S       452\n",
      "JNE3405-KR-S      443\n",
      "JNE3797-KR-XS     431\n",
      "JNE3797-KR-XXL    395\n",
      "Name: sku, dtype: int64\n",
      "B09SDXFFQ1    773\n",
      "B09SDY8DCT    657\n",
      "B09SDYQ3WG    587\n",
      "B081WSCKPQ    535\n",
      "B08XNJG8B1    507\n",
      "B09SDXRYBG    474\n",
      "B08XNJ19QH    452\n",
      "B081WX4G4Q    443\n",
      "B09SDY9SQ6    431\n",
      "B09SDXSQ33    395\n",
      "Name: asin, dtype: int64\n",
      "6617\n",
      "6620\n"
     ]
    }
   ],
   "source": [
    "#count how many sku are duplicated in df\n",
    "print(df['sku'].value_counts().head(10))\n",
    "#count how many asin are duplicated in df\n",
    "print(df['asin'].value_counts().head(10))\n",
    "#how may sku and asin are unique\n",
    "print(df['sku'].nunique())\n",
    "print(df['asin'].nunique())\n"
   ]
  },
  {
   "cell_type": "code",
   "execution_count": 20,
   "metadata": {},
   "outputs": [
    {
     "data": {
      "text/html": [
       "<div>\n",
       "<style scoped>\n",
       "    .dataframe tbody tr th:only-of-type {\n",
       "        vertical-align: middle;\n",
       "    }\n",
       "\n",
       "    .dataframe tbody tr th {\n",
       "        vertical-align: top;\n",
       "    }\n",
       "\n",
       "    .dataframe thead th {\n",
       "        text-align: right;\n",
       "    }\n",
       "</style>\n",
       "<table border=\"1\" class=\"dataframe\">\n",
       "  <thead>\n",
       "    <tr style=\"text-align: right;\">\n",
       "      <th></th>\n",
       "      <th>sku</th>\n",
       "      <th>size</th>\n",
       "      <th>style</th>\n",
       "      <th>category</th>\n",
       "      <th>asin</th>\n",
       "    </tr>\n",
       "  </thead>\n",
       "  <tbody>\n",
       "    <tr>\n",
       "      <th>0</th>\n",
       "      <td>SET389-KR-NP-S</td>\n",
       "      <td>S</td>\n",
       "      <td>SET389</td>\n",
       "      <td>Set</td>\n",
       "      <td>B09KXVBD7Z</td>\n",
       "    </tr>\n",
       "    <tr>\n",
       "      <th>1</th>\n",
       "      <td>JNE3781-KR-XXXL</td>\n",
       "      <td>3XL</td>\n",
       "      <td>JNE3781</td>\n",
       "      <td>kurta</td>\n",
       "      <td>B09K3WFS32</td>\n",
       "    </tr>\n",
       "    <tr>\n",
       "      <th>2</th>\n",
       "      <td>JNE3371-KR-XL</td>\n",
       "      <td>XL</td>\n",
       "      <td>JNE3371</td>\n",
       "      <td>kurta</td>\n",
       "      <td>B07WV4JV4D</td>\n",
       "    </tr>\n",
       "    <tr>\n",
       "      <th>3</th>\n",
       "      <td>J0341-DR-L</td>\n",
       "      <td>L</td>\n",
       "      <td>J0341</td>\n",
       "      <td>Western Dress</td>\n",
       "      <td>B099NRCT7B</td>\n",
       "    </tr>\n",
       "    <tr>\n",
       "      <th>4</th>\n",
       "      <td>JNE3671-TU-XXXL</td>\n",
       "      <td>3XL</td>\n",
       "      <td>JNE3671</td>\n",
       "      <td>Top</td>\n",
       "      <td>B098714BZP</td>\n",
       "    </tr>\n",
       "  </tbody>\n",
       "</table>\n",
       "</div>"
      ],
      "text/plain": [
       "               sku size    style       category        asin\n",
       "0   SET389-KR-NP-S    S   SET389            Set  B09KXVBD7Z\n",
       "1  JNE3781-KR-XXXL  3XL  JNE3781          kurta  B09K3WFS32\n",
       "2    JNE3371-KR-XL   XL  JNE3371          kurta  B07WV4JV4D\n",
       "3       J0341-DR-L    L    J0341  Western Dress  B099NRCT7B\n",
       "4  JNE3671-TU-XXXL  3XL  JNE3671            Top  B098714BZP"
      ]
     },
     "execution_count": 20,
     "metadata": {},
     "output_type": "execute_result"
    }
   ],
   "source": [
    "product_dim.head()"
   ]
  },
  {
   "cell_type": "code",
   "execution_count": 21,
   "metadata": {},
   "outputs": [
    {
     "data": {
      "text/plain": [
       "sku         6617\n",
       "size          11\n",
       "style       1240\n",
       "category       8\n",
       "asin        6616\n",
       "dtype: int64"
      ]
     },
     "execution_count": 21,
     "metadata": {},
     "output_type": "execute_result"
    }
   ],
   "source": [
    "#count the number of unique value in each column in product_dim\n",
    "product_dim.nunique()"
   ]
  },
  {
   "cell_type": "code",
   "execution_count": 22,
   "metadata": {},
   "outputs": [
    {
     "data": {
      "text/html": [
       "<div>\n",
       "<style scoped>\n",
       "    .dataframe tbody tr th:only-of-type {\n",
       "        vertical-align: middle;\n",
       "    }\n",
       "\n",
       "    .dataframe tbody tr th {\n",
       "        vertical-align: top;\n",
       "    }\n",
       "\n",
       "    .dataframe thead th {\n",
       "        text-align: right;\n",
       "    }\n",
       "</style>\n",
       "<table border=\"1\" class=\"dataframe\">\n",
       "  <thead>\n",
       "    <tr style=\"text-align: right;\">\n",
       "      <th></th>\n",
       "      <th>sku</th>\n",
       "      <th>size</th>\n",
       "      <th>style</th>\n",
       "      <th>category</th>\n",
       "      <th>asin</th>\n",
       "    </tr>\n",
       "  </thead>\n",
       "  <tbody>\n",
       "    <tr>\n",
       "      <th>33841</th>\n",
       "      <td>AN208-MUSTARD-M</td>\n",
       "      <td>M</td>\n",
       "      <td>AN208</td>\n",
       "      <td>Bottom</td>\n",
       "      <td>B091GNW3B1</td>\n",
       "    </tr>\n",
       "    <tr>\n",
       "      <th>60234</th>\n",
       "      <td>CH208-MUSTARD-M</td>\n",
       "      <td>M</td>\n",
       "      <td>CH208</td>\n",
       "      <td>Bottom</td>\n",
       "      <td>B091GNW3B1</td>\n",
       "    </tr>\n",
       "  </tbody>\n",
       "</table>\n",
       "</div>"
      ],
      "text/plain": [
       "                   sku size  style category        asin\n",
       "33841  AN208-MUSTARD-M    M  AN208   Bottom  B091GNW3B1\n",
       "60234  CH208-MUSTARD-M    M  CH208   Bottom  B091GNW3B1"
      ]
     },
     "execution_count": 22,
     "metadata": {},
     "output_type": "execute_result"
    }
   ],
   "source": [
    "#show asin that is duplocate\n",
    "product_dim[product_dim['asin'].duplicated(keep=False)].sort_values('asin').head(10)"
   ]
  },
  {
   "cell_type": "code",
   "execution_count": 23,
   "metadata": {},
   "outputs": [],
   "source": [
    "#save product_dim to csv in dimensions folder\n",
    "product_dim.to_csv('./dimensions/product_dim.csv', index=False)"
   ]
  }
 ],
 "metadata": {
  "kernelspec": {
   "display_name": "base",
   "language": "python",
   "name": "python3"
  },
  "language_info": {
   "codemirror_mode": {
    "name": "ipython",
    "version": 3
   },
   "file_extension": ".py",
   "mimetype": "text/x-python",
   "name": "python",
   "nbconvert_exporter": "python",
   "pygments_lexer": "ipython3",
   "version": "3.9.12"
  },
  "orig_nbformat": 4
 },
 "nbformat": 4,
 "nbformat_minor": 2
}
